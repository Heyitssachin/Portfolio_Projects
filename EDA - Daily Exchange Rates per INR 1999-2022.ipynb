{
 "cells": [
  {
   "cell_type": "markdown",
   "id": "fdf38664",
   "metadata": {},
   "source": [
    "# Daily Exchange Rates per INR 1999-2022"
   ]
  },
  {
   "cell_type": "markdown",
   "id": "7b5752cb",
   "metadata": {},
   "source": [
    "### Importing Libraries"
   ]
  },
  {
   "cell_type": "code",
   "execution_count": 41,
   "id": "e75a4df1",
   "metadata": {},
   "outputs": [],
   "source": [
    "import pandas as pd\n",
    "from pandas.plotting import register_matplotlib_converters\n",
    "register_matplotlib_converters()\n",
    "import matplotlib.pyplot as plt\n",
    "import seaborn as sns\n"
   ]
  },
  {
   "cell_type": "markdown",
   "id": "df8fc024",
   "metadata": {},
   "source": [
    "### Loading the Dataset"
   ]
  },
  {
   "cell_type": "code",
   "execution_count": 52,
   "id": "b2e65d0a",
   "metadata": {},
   "outputs": [
    {
     "data": {
      "text/html": [
       "<div>\n",
       "<style scoped>\n",
       "    .dataframe tbody tr th:only-of-type {\n",
       "        vertical-align: middle;\n",
       "    }\n",
       "\n",
       "    .dataframe tbody tr th {\n",
       "        vertical-align: top;\n",
       "    }\n",
       "\n",
       "    .dataframe thead th {\n",
       "        text-align: right;\n",
       "    }\n",
       "</style>\n",
       "<table border=\"1\" class=\"dataframe\">\n",
       "  <thead>\n",
       "    <tr style=\"text-align: right;\">\n",
       "      <th></th>\n",
       "      <th>Period\\Unit:</th>\n",
       "      <th>[Australian dollar ]</th>\n",
       "      <th>[Bulgarian lev ]</th>\n",
       "      <th>[Brazilian real ]</th>\n",
       "      <th>[Canadian dollar ]</th>\n",
       "      <th>[Swiss franc ]</th>\n",
       "      <th>[Chinese yuan renminbi ]</th>\n",
       "      <th>[Cypriot pound ]</th>\n",
       "      <th>[Czech koruna ]</th>\n",
       "      <th>[Danish krone ]</th>\n",
       "      <th>...</th>\n",
       "      <th>[Romanian leu ]</th>\n",
       "      <th>[Russian rouble ]</th>\n",
       "      <th>[Swedish krona ]</th>\n",
       "      <th>[Singapore dollar ]</th>\n",
       "      <th>[Slovenian tolar ]</th>\n",
       "      <th>[Slovak koruna ]</th>\n",
       "      <th>[Thai baht ]</th>\n",
       "      <th>[Turkish lira ]</th>\n",
       "      <th>[US dollar ]</th>\n",
       "      <th>[South African rand ]</th>\n",
       "    </tr>\n",
       "  </thead>\n",
       "  <tbody>\n",
       "    <tr>\n",
       "      <th>0</th>\n",
       "      <td>2022-11-15</td>\n",
       "      <td>1.5415</td>\n",
       "      <td>1.9558</td>\n",
       "      <td>5.5480</td>\n",
       "      <td>1.3816</td>\n",
       "      <td>0.9790</td>\n",
       "      <td>7.3299</td>\n",
       "      <td>NaN</td>\n",
       "      <td>24.326</td>\n",
       "      <td>7.4388</td>\n",
       "      <td>...</td>\n",
       "      <td>4.9116</td>\n",
       "      <td>NaN</td>\n",
       "      <td>10.8081</td>\n",
       "      <td>1.4238</td>\n",
       "      <td>NaN</td>\n",
       "      <td>NaN</td>\n",
       "      <td>36.9390</td>\n",
       "      <td>19.3608</td>\n",
       "      <td>1.0404</td>\n",
       "      <td>17.8822</td>\n",
       "    </tr>\n",
       "    <tr>\n",
       "      <th>1</th>\n",
       "      <td>2022-11-14</td>\n",
       "      <td>1.5427</td>\n",
       "      <td>1.9558</td>\n",
       "      <td>5.4605</td>\n",
       "      <td>1.3706</td>\n",
       "      <td>0.9751</td>\n",
       "      <td>7.2906</td>\n",
       "      <td>NaN</td>\n",
       "      <td>24.289</td>\n",
       "      <td>7.4382</td>\n",
       "      <td>...</td>\n",
       "      <td>4.9043</td>\n",
       "      <td>NaN</td>\n",
       "      <td>10.7713</td>\n",
       "      <td>1.4177</td>\n",
       "      <td>NaN</td>\n",
       "      <td>NaN</td>\n",
       "      <td>36.9780</td>\n",
       "      <td>19.1923</td>\n",
       "      <td>1.0319</td>\n",
       "      <td>17.8393</td>\n",
       "    </tr>\n",
       "    <tr>\n",
       "      <th>2</th>\n",
       "      <td>2022-11-11</td>\n",
       "      <td>1.5459</td>\n",
       "      <td>1.9558</td>\n",
       "      <td>5.5147</td>\n",
       "      <td>1.3698</td>\n",
       "      <td>0.9844</td>\n",
       "      <td>7.3267</td>\n",
       "      <td>NaN</td>\n",
       "      <td>24.278</td>\n",
       "      <td>7.4384</td>\n",
       "      <td>...</td>\n",
       "      <td>4.8940</td>\n",
       "      <td>NaN</td>\n",
       "      <td>10.7241</td>\n",
       "      <td>1.4199</td>\n",
       "      <td>NaN</td>\n",
       "      <td>NaN</td>\n",
       "      <td>37.0880</td>\n",
       "      <td>19.0987</td>\n",
       "      <td>1.0308</td>\n",
       "      <td>17.7944</td>\n",
       "    </tr>\n",
       "    <tr>\n",
       "      <th>3</th>\n",
       "      <td>2022-11-10</td>\n",
       "      <td>1.5525</td>\n",
       "      <td>1.9558</td>\n",
       "      <td>5.2860</td>\n",
       "      <td>1.3467</td>\n",
       "      <td>0.9834</td>\n",
       "      <td>7.2184</td>\n",
       "      <td>NaN</td>\n",
       "      <td>24.361</td>\n",
       "      <td>7.4381</td>\n",
       "      <td>...</td>\n",
       "      <td>4.8913</td>\n",
       "      <td>NaN</td>\n",
       "      <td>10.8743</td>\n",
       "      <td>1.3963</td>\n",
       "      <td>NaN</td>\n",
       "      <td>NaN</td>\n",
       "      <td>36.7000</td>\n",
       "      <td>18.5100</td>\n",
       "      <td>0.9954</td>\n",
       "      <td>17.6882</td>\n",
       "    </tr>\n",
       "    <tr>\n",
       "      <th>4</th>\n",
       "      <td>2022-11-09</td>\n",
       "      <td>1.5538</td>\n",
       "      <td>1.9558</td>\n",
       "      <td>5.1947</td>\n",
       "      <td>1.3501</td>\n",
       "      <td>0.9880</td>\n",
       "      <td>7.2813</td>\n",
       "      <td>NaN</td>\n",
       "      <td>24.337</td>\n",
       "      <td>7.4382</td>\n",
       "      <td>...</td>\n",
       "      <td>4.9045</td>\n",
       "      <td>NaN</td>\n",
       "      <td>10.8450</td>\n",
       "      <td>1.4061</td>\n",
       "      <td>NaN</td>\n",
       "      <td>NaN</td>\n",
       "      <td>36.9990</td>\n",
       "      <td>18.6728</td>\n",
       "      <td>1.0039</td>\n",
       "      <td>17.8770</td>\n",
       "    </tr>\n",
       "  </tbody>\n",
       "</table>\n",
       "<p>5 rows × 41 columns</p>\n",
       "</div>"
      ],
      "text/plain": [
       "  Period\\Unit: [Australian dollar ] [Bulgarian lev ] [Brazilian real ]  \\\n",
       "0   2022-11-15               1.5415           1.9558            5.5480   \n",
       "1   2022-11-14               1.5427           1.9558            5.4605   \n",
       "2   2022-11-11               1.5459           1.9558            5.5147   \n",
       "3   2022-11-10               1.5525           1.9558            5.2860   \n",
       "4   2022-11-09               1.5538           1.9558            5.1947   \n",
       "\n",
       "  [Canadian dollar ] [Swiss franc ] [Chinese yuan renminbi ] [Cypriot pound ]  \\\n",
       "0             1.3816         0.9790                   7.3299              NaN   \n",
       "1             1.3706         0.9751                   7.2906              NaN   \n",
       "2             1.3698         0.9844                   7.3267              NaN   \n",
       "3             1.3467         0.9834                   7.2184              NaN   \n",
       "4             1.3501         0.9880                   7.2813              NaN   \n",
       "\n",
       "  [Czech koruna ] [Danish krone ]  ... [Romanian leu ] [Russian rouble ]  \\\n",
       "0          24.326          7.4388  ...          4.9116               NaN   \n",
       "1          24.289          7.4382  ...          4.9043               NaN   \n",
       "2          24.278          7.4384  ...          4.8940               NaN   \n",
       "3          24.361          7.4381  ...          4.8913               NaN   \n",
       "4          24.337          7.4382  ...          4.9045               NaN   \n",
       "\n",
       "  [Swedish krona ] [Singapore dollar ] [Slovenian tolar ] [Slovak koruna ]  \\\n",
       "0          10.8081              1.4238                NaN              NaN   \n",
       "1          10.7713              1.4177                NaN              NaN   \n",
       "2          10.7241              1.4199                NaN              NaN   \n",
       "3          10.8743              1.3963                NaN              NaN   \n",
       "4          10.8450              1.4061                NaN              NaN   \n",
       "\n",
       "  [Thai baht ] [Turkish lira ] [US dollar ]  [South African rand ]  \n",
       "0      36.9390         19.3608       1.0404                17.8822  \n",
       "1      36.9780         19.1923       1.0319                17.8393  \n",
       "2      37.0880         19.0987       1.0308                17.7944  \n",
       "3      36.7000         18.5100       0.9954                17.6882  \n",
       "4      36.9990         18.6728       1.0039                17.8770  \n",
       "\n",
       "[5 rows x 41 columns]"
      ]
     },
     "execution_count": 52,
     "metadata": {},
     "output_type": "execute_result"
    }
   ],
   "source": [
    "df = pd.read_csv(\"C:\\\\Users\\\\lenovo\\\\Downloads\\\\UNZIP_FOR_NOTEBOOKS\\\\Euro exchange rates.csv\",  parse_dates=[\"Period\\\\Unit:\"])\n",
    "df.head()"
   ]
  },
  {
   "cell_type": "markdown",
   "id": "74d9dc03",
   "metadata": {},
   "source": [
    "### Data Cleaning\n",
    "\n",
    "#### Rename Columns and Change data types\n"
   ]
  },
  {
   "cell_type": "code",
   "execution_count": 53,
   "id": "6d435e17",
   "metadata": {
    "scrolled": true
   },
   "outputs": [
    {
     "name": "stdout",
     "output_type": "stream",
     "text": [
      "<class 'pandas.core.frame.DataFrame'>\n",
      "DatetimeIndex: 6177 entries, 2022-11-15 to 1999-01-04\n",
      "Data columns (total 40 columns):\n",
      " #   Column                 Non-Null Count  Dtype  \n",
      "---  ------                 --------------  -----  \n",
      " 0   Australian dollar      6177 non-null   object \n",
      " 1   Bulgarian lev          5775 non-null   object \n",
      " 2   Brazilian real         5909 non-null   object \n",
      " 3   Canadian dollar        6177 non-null   object \n",
      " 4   Swiss franc            6177 non-null   object \n",
      " 5   Chinese yuan renminbi  5909 non-null   object \n",
      " 6   Cypriot pound          2346 non-null   object \n",
      " 7   Czech koruna           6177 non-null   object \n",
      " 8   Danish krone           6177 non-null   object \n",
      " 9   Estonian kroon         3130 non-null   object \n",
      " 10  UK pound sterling      6177 non-null   object \n",
      " 11  Greek drachma          520 non-null    object \n",
      " 12  Hong Kong dollar       6177 non-null   object \n",
      " 13  Croatian kuna          5909 non-null   object \n",
      " 14  Hungarian forint       6177 non-null   object \n",
      " 15  Indonesian rupiah      6177 non-null   object \n",
      " 16  Israeli shekel         5909 non-null   object \n",
      " 17  Indian rupee           5909 non-null   object \n",
      " 18  Iceland krona          3770 non-null   float64\n",
      " 19  Japanese yen           6177 non-null   object \n",
      " 20  Korean won             6177 non-null   object \n",
      " 21  Lithuanian litas       4159 non-null   object \n",
      " 22  Latvian lats           3904 non-null   object \n",
      " 23  Maltese lira           2346 non-null   object \n",
      " 24  Mexican peso           6177 non-null   object \n",
      " 25  Malaysian ringgit      6177 non-null   object \n",
      " 26  Norwegian krone        6177 non-null   object \n",
      " 27  New Zealand dollar     6177 non-null   object \n",
      " 28  Philippine peso        6177 non-null   object \n",
      " 29  Polish zloty           6177 non-null   object \n",
      " 30  Romanian leu           6115 non-null   float64\n",
      " 31  Russian rouble         5994 non-null   object \n",
      " 32  Swedish krona          6177 non-null   object \n",
      " 33  Singapore dollar       6177 non-null   object \n",
      " 34  Slovenian tolar        2085 non-null   object \n",
      " 35  Slovak koruna          2608 non-null   object \n",
      " 36  Thai baht              6177 non-null   object \n",
      " 37  Turkish lira           6115 non-null   float64\n",
      " 38  US dollar              6177 non-null   object \n",
      " 39  South African rand     6177 non-null   object \n",
      "dtypes: float64(3), object(37)\n",
      "memory usage: 1.9+ MB\n"
     ]
    }
   ],
   "source": [
    "names = str.maketrans('', '', '[]')\n",
    "df.columns = df.columns.str.translate(names)\n",
    "df.columns = df.columns.str.strip()\n",
    "df.set_index('Period\\\\Unit:', inplace=True)\n",
    "df.index.rename('DateSeries', inplace = True)\n",
    "df.info()"
   ]
  },
  {
   "cell_type": "code",
   "execution_count": 54,
   "id": "c8e46f36",
   "metadata": {
    "scrolled": true
   },
   "outputs": [
    {
     "name": "stdout",
     "output_type": "stream",
     "text": [
      "<class 'pandas.core.frame.DataFrame'>\n",
      "DatetimeIndex: 6177 entries, 2022-11-15 to 1999-01-04\n",
      "Data columns (total 40 columns):\n",
      " #   Column                 Non-Null Count  Dtype  \n",
      "---  ------                 --------------  -----  \n",
      " 0   Australian dollar      6177 non-null   object \n",
      " 1   Bulgarian lev          5775 non-null   object \n",
      " 2   Brazilian real         5909 non-null   object \n",
      " 3   Canadian dollar        6177 non-null   object \n",
      " 4   Swiss franc            6177 non-null   object \n",
      " 5   Chinese yuan renminbi  5909 non-null   object \n",
      " 6   Cypriot pound          2346 non-null   object \n",
      " 7   Czech koruna           6177 non-null   object \n",
      " 8   Danish krone           6177 non-null   object \n",
      " 9   Estonian kroon         3130 non-null   object \n",
      " 10  UK pound sterling      6177 non-null   object \n",
      " 11  Greek drachma          520 non-null    object \n",
      " 12  Hong Kong dollar       6177 non-null   object \n",
      " 13  Croatian kuna          5909 non-null   object \n",
      " 14  Hungarian forint       6177 non-null   object \n",
      " 15  Indonesian rupiah      6177 non-null   object \n",
      " 16  Israeli shekel         5909 non-null   object \n",
      " 17  Indian rupee           5909 non-null   object \n",
      " 18  Iceland krona          3770 non-null   float64\n",
      " 19  Japanese yen           6177 non-null   object \n",
      " 20  Korean won             6177 non-null   object \n",
      " 21  Lithuanian litas       4159 non-null   object \n",
      " 22  Latvian lats           3904 non-null   object \n",
      " 23  Maltese lira           2346 non-null   object \n",
      " 24  Mexican peso           6177 non-null   object \n",
      " 25  Malaysian ringgit      6177 non-null   object \n",
      " 26  Norwegian krone        6177 non-null   object \n",
      " 27  New Zealand dollar     6177 non-null   object \n",
      " 28  Philippine peso        6177 non-null   object \n",
      " 29  Polish zloty           6177 non-null   object \n",
      " 30  Romanian leu           6115 non-null   float64\n",
      " 31  Russian rouble         5994 non-null   object \n",
      " 32  Swedish krona          6177 non-null   object \n",
      " 33  Singapore dollar       6177 non-null   object \n",
      " 34  Slovenian tolar        2085 non-null   object \n",
      " 35  Slovak koruna          2608 non-null   object \n",
      " 36  Thai baht              6177 non-null   object \n",
      " 37  Turkish lira           6115 non-null   float64\n",
      " 38  US dollar              6177 non-null   object \n",
      " 39  South African rand     6177 non-null   object \n",
      "dtypes: float64(3), object(37)\n",
      "memory usage: 1.9+ MB\n"
     ]
    }
   ],
   "source": [
    "cols = list(df)\n",
    "df[cols] = df[cols].apply(pd.to_numeric, errors='coerce')\n",
    "df_cur.info()"
   ]
  },
  {
   "cell_type": "markdown",
   "id": "2ac14a2f",
   "metadata": {},
   "source": [
    "### Removing NaN Values"
   ]
  },
  {
   "cell_type": "code",
   "execution_count": 46,
   "id": "f53796ea",
   "metadata": {
    "scrolled": true
   },
   "outputs": [
    {
     "data": {
      "text/plain": [
       "Australian dollar          62\n",
       "Bulgarian lev             460\n",
       "Brazilian real            329\n",
       "Canadian dollar            62\n",
       "Swiss franc                62\n",
       "Chinese yuan renminbi     329\n",
       "Cypriot pound            3873\n",
       "Czech koruna               62\n",
       "Danish krone               62\n",
       "Estonian kroon           3103\n",
       "UK pound sterling          62\n",
       "Greek drachma            5663\n",
       "Hong Kong dollar           62\n",
       "Croatian kuna             329\n",
       "Hungarian forint           62\n",
       "Indonesian rupiah          62\n",
       "Israeli shekel            330\n",
       "Indian rupee              329\n",
       "Iceland krona            2407\n",
       "Japanese yen               62\n",
       "Korean won                 62\n",
       "Lithuanian litas         2080\n",
       "Latvian lats             2335\n",
       "Maltese lira             3873\n",
       "Mexican peso               62\n",
       "Malaysian ringgit          62\n",
       "Norwegian krone            62\n",
       "New Zealand dollar         62\n",
       "Philippine peso            62\n",
       "Polish zloty               62\n",
       "Romanian leu               62\n",
       "Russian rouble            245\n",
       "Swedish krona              62\n",
       "Singapore dollar           62\n",
       "Slovenian tolar          4128\n",
       "Slovak koruna            3617\n",
       "Thai baht                  62\n",
       "Turkish lira               62\n",
       "US dollar                  62\n",
       "South African rand         62\n",
       "dtype: int64"
      ]
     },
     "execution_count": 46,
     "metadata": {},
     "output_type": "execute_result"
    }
   ],
   "source": [
    "df.isnull().sum(axis = 0)"
   ]
  },
  {
   "cell_type": "code",
   "execution_count": 55,
   "id": "fb7291f2",
   "metadata": {},
   "outputs": [
    {
     "name": "stdout",
     "output_type": "stream",
     "text": [
      "DatetimeIndex(['2012-05-01', '2012-04-09', '2012-04-06', '2011-12-26',\n",
      "               '2011-04-25', '2011-04-22', '2010-04-05', '2010-04-02',\n",
      "               '2010-01-01', '2009-12-25', '2009-05-01', '2009-04-13',\n",
      "               '2009-04-10', '2009-01-01', '2008-12-26', '2008-12-25',\n",
      "               '2008-05-01', '2008-03-24', '2008-03-21', '2008-01-01',\n",
      "               '2007-12-26', '2007-12-25', '2007-05-01', '2007-04-09',\n",
      "               '2007-04-06', '2007-01-01', '2006-12-26', '2006-12-25',\n",
      "               '2006-05-01', '2006-04-17', '2006-04-14', '2005-12-26',\n",
      "               '2005-03-28', '2005-03-25', '2004-04-12', '2004-04-09',\n",
      "               '2004-01-01', '2003-12-26', '2003-12-25', '2003-05-01',\n",
      "               '2003-04-21', '2003-04-18', '2003-01-01', '2002-12-26',\n",
      "               '2002-12-25', '2002-05-01', '2002-04-01', '2002-03-29',\n",
      "               '2002-01-01', '2001-12-31', '2001-12-26', '2001-12-25',\n",
      "               '2001-05-01', '2001-04-16', '2001-04-13', '2001-01-01',\n",
      "               '2000-12-26', '2000-12-25', '2000-05-01', '2000-04-24',\n",
      "               '2000-04-21', '1999-12-31'],\n",
      "              dtype='datetime64[ns]', name='DateSeries', freq=None)\n",
      "Number of NaN rows: 62\n"
     ]
    }
   ],
   "source": [
    "n = df.index[df.isnull().all(1)]\n",
    "print(n)\n",
    "print('Number of NaN rows: {}'.format(len(n)))"
   ]
  },
  {
   "cell_type": "code",
   "execution_count": 56,
   "id": "80fef1db",
   "metadata": {
    "scrolled": true
   },
   "outputs": [
    {
     "name": "stdout",
     "output_type": "stream",
     "text": [
      "<class 'pandas.core.frame.DataFrame'>\n",
      "DatetimeIndex: 6115 entries, 2022-11-15 to 1999-01-04\n",
      "Data columns (total 40 columns):\n",
      " #   Column                 Non-Null Count  Dtype  \n",
      "---  ------                 --------------  -----  \n",
      " 0   Australian dollar      6115 non-null   float64\n",
      " 1   Bulgarian lev          5717 non-null   float64\n",
      " 2   Brazilian real         5848 non-null   float64\n",
      " 3   Canadian dollar        6115 non-null   float64\n",
      " 4   Swiss franc            6115 non-null   float64\n",
      " 5   Chinese yuan renminbi  5848 non-null   float64\n",
      " 6   Cypriot pound          2304 non-null   float64\n",
      " 7   Czech koruna           6115 non-null   float64\n",
      " 8   Danish krone           6115 non-null   float64\n",
      " 9   Estonian kroon         3074 non-null   float64\n",
      " 10  UK pound sterling      6115 non-null   float64\n",
      " 11  Greek drachma          514 non-null    float64\n",
      " 12  Hong Kong dollar       6115 non-null   float64\n",
      " 13  Croatian kuna          5848 non-null   float64\n",
      " 14  Hungarian forint       6115 non-null   float64\n",
      " 15  Indonesian rupiah      6115 non-null   float64\n",
      " 16  Israeli shekel         5847 non-null   float64\n",
      " 17  Indian rupee           5848 non-null   float64\n",
      " 18  Iceland krona          3770 non-null   float64\n",
      " 19  Japanese yen           6115 non-null   float64\n",
      " 20  Korean won             6115 non-null   float64\n",
      " 21  Lithuanian litas       4097 non-null   float64\n",
      " 22  Latvian lats           3842 non-null   float64\n",
      " 23  Maltese lira           2304 non-null   float64\n",
      " 24  Mexican peso           6115 non-null   float64\n",
      " 25  Malaysian ringgit      6115 non-null   float64\n",
      " 26  Norwegian krone        6115 non-null   float64\n",
      " 27  New Zealand dollar     6115 non-null   float64\n",
      " 28  Philippine peso        6115 non-null   float64\n",
      " 29  Polish zloty           6115 non-null   float64\n",
      " 30  Romanian leu           6115 non-null   float64\n",
      " 31  Russian rouble         5932 non-null   float64\n",
      " 32  Swedish krona          6115 non-null   float64\n",
      " 33  Singapore dollar       6115 non-null   float64\n",
      " 34  Slovenian tolar        2049 non-null   float64\n",
      " 35  Slovak koruna          2560 non-null   float64\n",
      " 36  Thai baht              6115 non-null   float64\n",
      " 37  Turkish lira           6115 non-null   float64\n",
      " 38  US dollar              6115 non-null   float64\n",
      " 39  South African rand     6115 non-null   float64\n",
      "dtypes: float64(40)\n",
      "memory usage: 1.9 MB\n"
     ]
    }
   ],
   "source": [
    "df= df.drop(n)\n",
    "df.info()"
   ]
  },
  {
   "cell_type": "code",
   "execution_count": 58,
   "id": "6cf76610",
   "metadata": {},
   "outputs": [
    {
     "data": {
      "text/html": [
       "<div>\n",
       "<style scoped>\n",
       "    .dataframe tbody tr th:only-of-type {\n",
       "        vertical-align: middle;\n",
       "    }\n",
       "\n",
       "    .dataframe tbody tr th {\n",
       "        vertical-align: top;\n",
       "    }\n",
       "\n",
       "    .dataframe thead th {\n",
       "        text-align: right;\n",
       "    }\n",
       "</style>\n",
       "<table border=\"1\" class=\"dataframe\">\n",
       "  <thead>\n",
       "    <tr style=\"text-align: right;\">\n",
       "      <th></th>\n",
       "      <th>Australian dollar</th>\n",
       "      <th>Bulgarian lev</th>\n",
       "      <th>Brazilian real</th>\n",
       "      <th>Canadian dollar</th>\n",
       "      <th>Swiss franc</th>\n",
       "      <th>Chinese yuan renminbi</th>\n",
       "      <th>Cypriot pound</th>\n",
       "      <th>Czech koruna</th>\n",
       "      <th>Danish krone</th>\n",
       "      <th>Estonian kroon</th>\n",
       "      <th>...</th>\n",
       "      <th>Romanian leu</th>\n",
       "      <th>Russian rouble</th>\n",
       "      <th>Swedish krona</th>\n",
       "      <th>Singapore dollar</th>\n",
       "      <th>Slovenian tolar</th>\n",
       "      <th>Slovak koruna</th>\n",
       "      <th>Thai baht</th>\n",
       "      <th>Turkish lira</th>\n",
       "      <th>US dollar</th>\n",
       "      <th>South African rand</th>\n",
       "    </tr>\n",
       "  </thead>\n",
       "  <tbody>\n",
       "    <tr>\n",
       "      <th>count</th>\n",
       "      <td>6115.000000</td>\n",
       "      <td>5717.000000</td>\n",
       "      <td>5848.000000</td>\n",
       "      <td>6115.000000</td>\n",
       "      <td>6115.000000</td>\n",
       "      <td>5848.000000</td>\n",
       "      <td>2304.000000</td>\n",
       "      <td>6115.000000</td>\n",
       "      <td>6115.000000</td>\n",
       "      <td>3.074000e+03</td>\n",
       "      <td>...</td>\n",
       "      <td>6115.000000</td>\n",
       "      <td>5932.000000</td>\n",
       "      <td>6115.000000</td>\n",
       "      <td>6115.000000</td>\n",
       "      <td>2049.000000</td>\n",
       "      <td>2560.000000</td>\n",
       "      <td>6115.000000</td>\n",
       "      <td>6115.000000</td>\n",
       "      <td>6115.000000</td>\n",
       "      <td>6115.000000</td>\n",
       "    </tr>\n",
       "    <tr>\n",
       "      <th>mean</th>\n",
       "      <td>1.576872</td>\n",
       "      <td>1.954586</td>\n",
       "      <td>3.397652</td>\n",
       "      <td>1.465931</td>\n",
       "      <td>1.335918</td>\n",
       "      <td>8.503604</td>\n",
       "      <td>0.578354</td>\n",
       "      <td>28.167202</td>\n",
       "      <td>7.448088</td>\n",
       "      <td>1.564660e+01</td>\n",
       "      <td>...</td>\n",
       "      <td>3.950769</td>\n",
       "      <td>48.238010</td>\n",
       "      <td>9.472731</td>\n",
       "      <td>1.745340</td>\n",
       "      <td>224.630090</td>\n",
       "      <td>39.512409</td>\n",
       "      <td>41.696156</td>\n",
       "      <td>3.544947</td>\n",
       "      <td>1.193579</td>\n",
       "      <td>11.850627</td>\n",
       "    </tr>\n",
       "    <tr>\n",
       "      <th>std</th>\n",
       "      <td>0.150307</td>\n",
       "      <td>0.002975</td>\n",
       "      <td>1.206634</td>\n",
       "      <td>0.098318</td>\n",
       "      <td>0.214925</td>\n",
       "      <td>1.168333</td>\n",
       "      <td>0.004393</td>\n",
       "      <td>3.532062</td>\n",
       "      <td>0.011373</td>\n",
       "      <td>3.375627e-14</td>\n",
       "      <td>...</td>\n",
       "      <td>0.875509</td>\n",
       "      <td>19.627868</td>\n",
       "      <td>0.658521</td>\n",
       "      <td>0.215524</td>\n",
       "      <td>16.102436</td>\n",
       "      <td>4.154182</td>\n",
       "      <td>4.746896</td>\n",
       "      <td>3.588387</td>\n",
       "      <td>0.158717</td>\n",
       "      <td>3.757882</td>\n",
       "    </tr>\n",
       "    <tr>\n",
       "      <th>min</th>\n",
       "      <td>1.163900</td>\n",
       "      <td>1.944100</td>\n",
       "      <td>1.563000</td>\n",
       "      <td>1.213900</td>\n",
       "      <td>0.943700</td>\n",
       "      <td>6.555200</td>\n",
       "      <td>0.570970</td>\n",
       "      <td>22.968000</td>\n",
       "      <td>7.423400</td>\n",
       "      <td>1.564660e+01</td>\n",
       "      <td>...</td>\n",
       "      <td>1.291200</td>\n",
       "      <td>23.190300</td>\n",
       "      <td>8.055000</td>\n",
       "      <td>1.383800</td>\n",
       "      <td>187.133300</td>\n",
       "      <td>30.126000</td>\n",
       "      <td>33.204000</td>\n",
       "      <td>0.370100</td>\n",
       "      <td>0.825200</td>\n",
       "      <td>6.078500</td>\n",
       "    </tr>\n",
       "    <tr>\n",
       "      <th>25%</th>\n",
       "      <td>1.479250</td>\n",
       "      <td>1.955800</td>\n",
       "      <td>2.565200</td>\n",
       "      <td>1.396400</td>\n",
       "      <td>1.113500</td>\n",
       "      <td>7.616725</td>\n",
       "      <td>0.574580</td>\n",
       "      <td>25.585000</td>\n",
       "      <td>7.438700</td>\n",
       "      <td>1.564660e+01</td>\n",
       "      <td>...</td>\n",
       "      <td>3.541350</td>\n",
       "      <td>34.466000</td>\n",
       "      <td>9.063300</td>\n",
       "      <td>1.571700</td>\n",
       "      <td>213.493900</td>\n",
       "      <td>37.474500</td>\n",
       "      <td>38.018000</td>\n",
       "      <td>1.718600</td>\n",
       "      <td>1.095250</td>\n",
       "      <td>8.697700</td>\n",
       "    </tr>\n",
       "    <tr>\n",
       "      <th>50%</th>\n",
       "      <td>1.596500</td>\n",
       "      <td>1.955800</td>\n",
       "      <td>3.079550</td>\n",
       "      <td>1.464700</td>\n",
       "      <td>1.303000</td>\n",
       "      <td>8.104050</td>\n",
       "      <td>0.577800</td>\n",
       "      <td>27.024000</td>\n",
       "      <td>7.447300</td>\n",
       "      <td>1.564660e+01</td>\n",
       "      <td>...</td>\n",
       "      <td>4.265200</td>\n",
       "      <td>40.189950</td>\n",
       "      <td>9.293000</td>\n",
       "      <td>1.667700</td>\n",
       "      <td>230.305000</td>\n",
       "      <td>40.910000</td>\n",
       "      <td>40.378000</td>\n",
       "      <td>2.189200</td>\n",
       "      <td>1.188800</td>\n",
       "      <td>11.008700</td>\n",
       "    </tr>\n",
       "    <tr>\n",
       "      <th>75%</th>\n",
       "      <td>1.670200</td>\n",
       "      <td>1.955800</td>\n",
       "      <td>3.906800</td>\n",
       "      <td>1.539600</td>\n",
       "      <td>1.545150</td>\n",
       "      <td>9.541575</td>\n",
       "      <td>0.582000</td>\n",
       "      <td>30.268000</td>\n",
       "      <td>7.458300</td>\n",
       "      <td>1.564660e+01</td>\n",
       "      <td>...</td>\n",
       "      <td>4.534500</td>\n",
       "      <td>68.905300</td>\n",
       "      <td>9.984600</td>\n",
       "      <td>1.975550</td>\n",
       "      <td>239.510000</td>\n",
       "      <td>42.769750</td>\n",
       "      <td>45.284500</td>\n",
       "      <td>3.627450</td>\n",
       "      <td>1.311850</td>\n",
       "      <td>15.151200</td>\n",
       "    </tr>\n",
       "    <tr>\n",
       "      <th>max</th>\n",
       "      <td>2.073500</td>\n",
       "      <td>1.962000</td>\n",
       "      <td>6.955300</td>\n",
       "      <td>1.812300</td>\n",
       "      <td>1.680300</td>\n",
       "      <td>11.284000</td>\n",
       "      <td>0.588800</td>\n",
       "      <td>38.583000</td>\n",
       "      <td>7.473200</td>\n",
       "      <td>1.564660e+01</td>\n",
       "      <td>...</td>\n",
       "      <td>4.951000</td>\n",
       "      <td>117.201000</td>\n",
       "      <td>11.713500</td>\n",
       "      <td>2.232300</td>\n",
       "      <td>240.030000</td>\n",
       "      <td>47.484000</td>\n",
       "      <td>53.536000</td>\n",
       "      <td>20.043400</td>\n",
       "      <td>1.599000</td>\n",
       "      <td>20.845200</td>\n",
       "    </tr>\n",
       "  </tbody>\n",
       "</table>\n",
       "<p>8 rows × 40 columns</p>\n",
       "</div>"
      ],
      "text/plain": [
       "       Australian dollar  Bulgarian lev  Brazilian real  Canadian dollar  \\\n",
       "count        6115.000000    5717.000000     5848.000000      6115.000000   \n",
       "mean            1.576872       1.954586        3.397652         1.465931   \n",
       "std             0.150307       0.002975        1.206634         0.098318   \n",
       "min             1.163900       1.944100        1.563000         1.213900   \n",
       "25%             1.479250       1.955800        2.565200         1.396400   \n",
       "50%             1.596500       1.955800        3.079550         1.464700   \n",
       "75%             1.670200       1.955800        3.906800         1.539600   \n",
       "max             2.073500       1.962000        6.955300         1.812300   \n",
       "\n",
       "       Swiss franc  Chinese yuan renminbi  Cypriot pound  Czech koruna  \\\n",
       "count  6115.000000            5848.000000    2304.000000   6115.000000   \n",
       "mean      1.335918               8.503604       0.578354     28.167202   \n",
       "std       0.214925               1.168333       0.004393      3.532062   \n",
       "min       0.943700               6.555200       0.570970     22.968000   \n",
       "25%       1.113500               7.616725       0.574580     25.585000   \n",
       "50%       1.303000               8.104050       0.577800     27.024000   \n",
       "75%       1.545150               9.541575       0.582000     30.268000   \n",
       "max       1.680300              11.284000       0.588800     38.583000   \n",
       "\n",
       "       Danish krone  Estonian kroon  ...  Romanian leu  Russian rouble  \\\n",
       "count   6115.000000    3.074000e+03  ...   6115.000000     5932.000000   \n",
       "mean       7.448088    1.564660e+01  ...      3.950769       48.238010   \n",
       "std        0.011373    3.375627e-14  ...      0.875509       19.627868   \n",
       "min        7.423400    1.564660e+01  ...      1.291200       23.190300   \n",
       "25%        7.438700    1.564660e+01  ...      3.541350       34.466000   \n",
       "50%        7.447300    1.564660e+01  ...      4.265200       40.189950   \n",
       "75%        7.458300    1.564660e+01  ...      4.534500       68.905300   \n",
       "max        7.473200    1.564660e+01  ...      4.951000      117.201000   \n",
       "\n",
       "       Swedish krona  Singapore dollar  Slovenian tolar  Slovak koruna  \\\n",
       "count    6115.000000       6115.000000      2049.000000    2560.000000   \n",
       "mean        9.472731          1.745340       224.630090      39.512409   \n",
       "std         0.658521          0.215524        16.102436       4.154182   \n",
       "min         8.055000          1.383800       187.133300      30.126000   \n",
       "25%         9.063300          1.571700       213.493900      37.474500   \n",
       "50%         9.293000          1.667700       230.305000      40.910000   \n",
       "75%         9.984600          1.975550       239.510000      42.769750   \n",
       "max        11.713500          2.232300       240.030000      47.484000   \n",
       "\n",
       "         Thai baht  Turkish lira    US dollar  South African rand  \n",
       "count  6115.000000   6115.000000  6115.000000         6115.000000  \n",
       "mean     41.696156      3.544947     1.193579           11.850627  \n",
       "std       4.746896      3.588387     0.158717            3.757882  \n",
       "min      33.204000      0.370100     0.825200            6.078500  \n",
       "25%      38.018000      1.718600     1.095250            8.697700  \n",
       "50%      40.378000      2.189200     1.188800           11.008700  \n",
       "75%      45.284500      3.627450     1.311850           15.151200  \n",
       "max      53.536000     20.043400     1.599000           20.845200  \n",
       "\n",
       "[8 rows x 40 columns]"
      ]
     },
     "execution_count": 58,
     "metadata": {},
     "output_type": "execute_result"
    }
   ],
   "source": [
    "df.describe(include='all')\n"
   ]
  },
  {
   "cell_type": "markdown",
   "id": "39ae38b4",
   "metadata": {},
   "source": [
    "#### Change the structure of dataframe:\n",
    "#### reset index and make 2 columns: one with all the currency types: Currency name and another with Value attribute."
   ]
  },
  {
   "cell_type": "code",
   "execution_count": 70,
   "id": "63a2ac86",
   "metadata": {},
   "outputs": [
    {
     "data": {
      "text/html": [
       "<div>\n",
       "<style scoped>\n",
       "    .dataframe tbody tr th:only-of-type {\n",
       "        vertical-align: middle;\n",
       "    }\n",
       "\n",
       "    .dataframe tbody tr th {\n",
       "        vertical-align: top;\n",
       "    }\n",
       "\n",
       "    .dataframe thead th {\n",
       "        text-align: right;\n",
       "    }\n",
       "</style>\n",
       "<table border=\"1\" class=\"dataframe\">\n",
       "  <thead>\n",
       "    <tr style=\"text-align: right;\">\n",
       "      <th></th>\n",
       "      <th>DateSeries</th>\n",
       "      <th>Currency name</th>\n",
       "      <th>Value</th>\n",
       "    </tr>\n",
       "  </thead>\n",
       "  <tbody>\n",
       "    <tr>\n",
       "      <th>0</th>\n",
       "      <td>2022-11-15</td>\n",
       "      <td>Australian dollar</td>\n",
       "      <td>1.5415</td>\n",
       "    </tr>\n",
       "    <tr>\n",
       "      <th>1</th>\n",
       "      <td>2022-11-14</td>\n",
       "      <td>Australian dollar</td>\n",
       "      <td>1.5427</td>\n",
       "    </tr>\n",
       "    <tr>\n",
       "      <th>2</th>\n",
       "      <td>2022-11-11</td>\n",
       "      <td>Australian dollar</td>\n",
       "      <td>1.5459</td>\n",
       "    </tr>\n",
       "    <tr>\n",
       "      <th>3</th>\n",
       "      <td>2022-11-10</td>\n",
       "      <td>Australian dollar</td>\n",
       "      <td>1.5525</td>\n",
       "    </tr>\n",
       "    <tr>\n",
       "      <th>4</th>\n",
       "      <td>2022-11-09</td>\n",
       "      <td>Australian dollar</td>\n",
       "      <td>1.5538</td>\n",
       "    </tr>\n",
       "  </tbody>\n",
       "</table>\n",
       "</div>"
      ],
      "text/plain": [
       "  DateSeries      Currency name   Value\n",
       "0 2022-11-15  Australian dollar  1.5415\n",
       "1 2022-11-14  Australian dollar  1.5427\n",
       "2 2022-11-11  Australian dollar  1.5459\n",
       "3 2022-11-10  Australian dollar  1.5525\n",
       "4 2022-11-09  Australian dollar  1.5538"
      ]
     },
     "execution_count": 70,
     "metadata": {},
     "output_type": "execute_result"
    }
   ],
   "source": [
    "df1 = df.reset_index()\n",
    "df2=df1.melt(id_vars=['DateSeries'], var_name='Currency name', value_name='Value')\n",
    "df2.head(5)"
   ]
  },
  {
   "cell_type": "markdown",
   "id": "7b67dd0f",
   "metadata": {},
   "source": [
    "### Example: USD/INR and INR/USD\n",
    "Create new dataframe 'dataINRUSD' containig only values of US dollar and Indian rupee INR get 5 sample rows;\n",
    "Plot the graph including both currencies in rates of INR."
   ]
  },
  {
   "cell_type": "code",
   "execution_count": 71,
   "id": "a3b72359",
   "metadata": {},
   "outputs": [
    {
     "data": {
      "text/html": [
       "<div>\n",
       "<style scoped>\n",
       "    .dataframe tbody tr th:only-of-type {\n",
       "        vertical-align: middle;\n",
       "    }\n",
       "\n",
       "    .dataframe tbody tr th {\n",
       "        vertical-align: top;\n",
       "    }\n",
       "\n",
       "    .dataframe thead th {\n",
       "        text-align: right;\n",
       "    }\n",
       "</style>\n",
       "<table border=\"1\" class=\"dataframe\">\n",
       "  <thead>\n",
       "    <tr style=\"text-align: right;\">\n",
       "      <th></th>\n",
       "      <th>DateSeries</th>\n",
       "      <th>Currency name</th>\n",
       "      <th>Value</th>\n",
       "    </tr>\n",
       "  </thead>\n",
       "  <tbody>\n",
       "    <tr>\n",
       "      <th>237681</th>\n",
       "      <td>2002-02-20</td>\n",
       "      <td>US dollar</td>\n",
       "      <td>0.8743</td>\n",
       "    </tr>\n",
       "    <tr>\n",
       "      <th>106506</th>\n",
       "      <td>2012-11-26</td>\n",
       "      <td>Indian rupee</td>\n",
       "      <td>72.1120</td>\n",
       "    </tr>\n",
       "    <tr>\n",
       "      <th>236906</th>\n",
       "      <td>2005-03-01</td>\n",
       "      <td>US dollar</td>\n",
       "      <td>1.3216</td>\n",
       "    </tr>\n",
       "    <tr>\n",
       "      <th>109930</th>\n",
       "      <td>1999-07-16</td>\n",
       "      <td>Indian rupee</td>\n",
       "      <td>NaN</td>\n",
       "    </tr>\n",
       "    <tr>\n",
       "      <th>237353</th>\n",
       "      <td>2003-06-06</td>\n",
       "      <td>US dollar</td>\n",
       "      <td>1.1813</td>\n",
       "    </tr>\n",
       "  </tbody>\n",
       "</table>\n",
       "</div>"
      ],
      "text/plain": [
       "       DateSeries Currency name    Value\n",
       "237681 2002-02-20     US dollar   0.8743\n",
       "106506 2012-11-26  Indian rupee  72.1120\n",
       "236906 2005-03-01     US dollar   1.3216\n",
       "109930 1999-07-16  Indian rupee      NaN\n",
       "237353 2003-06-06     US dollar   1.1813"
      ]
     },
     "execution_count": 71,
     "metadata": {},
     "output_type": "execute_result"
    }
   ],
   "source": [
    "dataINRUSD = df2.loc[(df2['Currency name'] == 'Indian rupee') | (df2['Currency name'] == 'US dollar')]\n",
    "dataINRUSD.sample(5)"
   ]
  },
  {
   "cell_type": "code",
   "execution_count": null,
   "id": "42c4dda1",
   "metadata": {},
   "outputs": [],
   "source": []
  },
  {
   "cell_type": "code",
   "execution_count": 91,
   "id": "c16d6b2e",
   "metadata": {},
   "outputs": [
    {
     "data": {
      "text/plain": [
       "<matplotlib.legend.Legend at 0x1f14cd85310>"
      ]
     },
     "execution_count": 91,
     "metadata": {},
     "output_type": "execute_result"
    },
    {
     "data": {
      "image/png": "[encoded data removed]",
      "text/plain": [
       "<Figure size 800x500 with 1 Axes>"
      ]
     },
     "metadata": {
      "needs_background": "light"
     },
     "output_type": "display_data"
    }
   ],
   "source": [
    "plt.figure(figsize= (8,5), dpi = 100)\n",
    "plt.grid(which='major', linewidth = 2)\n",
    "plt.minorticks_on()\n",
    "sns.lineplot(x='DateSeries', y='Value', hue='Currency name', data = dataINRUSD)\n",
    "plt.grid(which='minor', linewidth = 0.5)\n",
    "plt.legend(bbox_to_anchor=(1.1, 1), loc=('upper left'))"
   ]
  },
  {
   "cell_type": "markdown",
   "id": "aa5ca6d6",
   "metadata": {},
   "source": [
    "### Graphs for 2020 - 2022"
   ]
  },
  {
   "cell_type": "code",
   "execution_count": 96,
   "id": "9c78f3fb",
   "metadata": {},
   "outputs": [
    {
     "data": {
      "image/png": "[encoded data removed]",
      "text/plain": [
       "<Figure size 720x576 with 1 Axes>"
      ]
     },
     "metadata": {
      "needs_background": "light"
     },
     "output_type": "display_data"
    }
   ],
   "source": [
    "dataSince2020 = dataINRUSD.loc[dataINRUSD['DateSeries'] >= ' 20200101']\n",
    "\n",
    "fig = plt.figure(figsize=(10,8)) \n",
    "plt.grid(which='major', linewidth = 2)\n",
    "plt.minorticks_on()\n",
    "plt.grid(which='minor', linewidth = 0.5)\n",
    "sns.lineplot(x='DateSeries', y='Value', hue='Currency name', data = dataSince2020)\n",
    "plt.legend(bbox_to_anchor=(1.05, 1), loc=(1.02, 0.7) , borderaxespad=0.);"
   ]
  },
  {
   "cell_type": "markdown",
   "id": "2ae1b8c0",
   "metadata": {},
   "source": [
    "### All time high of USD - INR exchange"
   ]
  },
  {
   "cell_type": "code",
   "execution_count": 127,
   "id": "d56256b5",
   "metadata": {},
   "outputs": [
    {
     "data": {
      "text/plain": [
       "236044    1.5990\n",
       "236102    1.5940\n",
       "236103    1.5931\n",
       "236107    1.5928\n",
       "236039    1.5919\n",
       "Name: Value, dtype: float64"
      ]
     },
     "execution_count": 127,
     "metadata": {},
     "output_type": "execute_result"
    }
   ],
   "source": [
    "dataUSD = dataINRUSD.loc[(dataINRUSD['Currency name'] == 'US dollar')]\n",
    "dataUSD['Value'].nlargest()"
   ]
  },
  {
   "cell_type": "markdown",
   "id": "4dca594f",
   "metadata": {},
   "source": [
    "### All time low of USD - INR exchange"
   ]
  },
  {
   "cell_type": "code",
   "execution_count": 126,
   "id": "7eb777d4",
   "metadata": {},
   "outputs": [
    {
     "data": {
      "text/plain": [
       "238015    0.8252\n",
       "238016    0.8307\n",
       "238014    0.8324\n",
       "238018    0.8377\n",
       "237840    0.8384\n",
       "Name: Value, dtype: float64"
      ]
     },
     "execution_count": 126,
     "metadata": {},
     "output_type": "execute_result"
    }
   ],
   "source": [
    "dataUSD = dataINRUSD.loc[(dataINRUSD['Currency name'] == 'US dollar')]\n",
    "dataUSD['Value'].nsmallest()"
   ]
  },
  {
   "cell_type": "markdown",
   "id": "75c61b99",
   "metadata": {},
   "source": [
    "### All time high of INR - USD exchange"
   ]
  },
  {
   "cell_type": "code",
   "execution_count": 128,
   "id": "b7a2a110",
   "metadata": {},
   "outputs": [
    {
     "data": {
      "text/plain": [
       "106315    92.0650\n",
       "104362    90.5955\n",
       "104363    90.5480\n",
       "104360    90.4715\n",
       "104444    90.3975\n",
       "Name: Value, dtype: float64"
      ]
     },
     "execution_count": 128,
     "metadata": {},
     "output_type": "execute_result"
    }
   ],
   "source": [
    "dataINR = dataINRUSD.loc[(dataINRUSD['Currency name'] == 'Indian rupee')]\n",
    "dataINR['Value'].nlargest()"
   ]
  },
  {
   "cell_type": "markdown",
   "id": "97d71fa3",
   "metadata": {},
   "source": [
    "### All time low of INR - USD exchange"
   ]
  },
  {
   "cell_type": "code",
   "execution_count": 129,
   "id": "7812bf8b",
   "metadata": {},
   "outputs": [
    {
     "data": {
      "text/plain": [
       "109600    38.497\n",
       "109601    38.755\n",
       "109603    38.880\n",
       "109726    38.903\n",
       "109599    38.927\n",
       "Name: Value, dtype: float64"
      ]
     },
     "execution_count": 129,
     "metadata": {},
     "output_type": "execute_result"
    }
   ],
   "source": [
    "dataINR = dataINRUSD.loc[(dataINRUSD['Currency name'] == 'Indian rupee')]\n",
    "dataINR['Value'].nsmallest()"
   ]
  },
  {
   "cell_type": "markdown",
   "id": "2bc1fa79",
   "metadata": {},
   "source": [
    "## Conclusion\n",
    "BY SEEING ABOVE PLOTS AND  ANALYSIS, WE CAN VIEW IT CLEARLY THAT HOW USD HAS BEEN STABLE THROUGH THE OUT THE YEARS IN COMPARISION OF INR.\n",
    "WHICH MAKES USD ONE OF THE STABLE CURRENCY IN THE WORLD."
   ]
  }
 ],
 "metadata": {
  "kernelspec": {
   "display_name": "Python 3 (ipykernel)",
   "language": "python",
   "name": "python3"
  },
  "language_info": {
   "codemirror_mode": {
    "name": "ipython",
    "version": 3
   },
   "file_extension": ".py",
   "mimetype": "text/x-python",
   "name": "python",
   "nbconvert_exporter": "python",
   "pygments_lexer": "ipython3",
   "version": "3.9.12"
  }
 },
 "nbformat": 4,
 "nbformat_minor": 5
}
